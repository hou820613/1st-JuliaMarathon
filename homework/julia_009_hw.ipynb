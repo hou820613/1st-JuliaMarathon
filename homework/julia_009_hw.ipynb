{
 "cells": [
  {
   "cell_type": "markdown",
   "metadata": {},
   "source": [
    "# 陣列 (Array)\n",
    "\n",
    "## Day 009 作業：比較不同的內建排序演算法\n",
    "\n",
    "除了範例程式示範的 QuickSort 之外，Julia 也內建支援幾種不同的排序演算法：\n",
    "\n",
    "- InsertionSort\n",
    "- PartialQuickSort(k)\n",
    "- MergeSort\n",
    "\n",
    "1. 請閱讀官方文件及範例 [Sorting-Algorithms](https://docs.julialang.org/en/v1/base/sort/#Sorting-Algorithms-1)\n",
    "\n",
    "2. 撰寫程式隨機產生 100000 個 200 到 500 之間的數字來建立陣列，執行不同排序方法，來比較不同排序方法的速度。\n",
    "\n",
    "**[提示]** 排序執行所需時間可以用巨集 `@time` 或 `@elapsed` 來取得。"
   ]
  },
  {
   "cell_type": "code",
   "execution_count": 1,
   "metadata": {},
   "outputs": [
    {
     "name": "stdout",
     "output_type": "stream",
     "text": [
      "Array{Float64,1}\n",
      "(100000,)\n",
      "Min Element = (200.0095991690914, 71119)\n",
      "Max Element = (499.99824809322877, 51452)\n",
      "Create Array Cost Time = 513.9999389648438 ms"
     ]
    }
   ],
   "source": [
    "# 產生 100000 個 200 到 500 之間的數字的陣列\n",
    "mStart = time()\n",
    "\n",
    "x = 200 * ones(100000) + 300 * rand(100000) # 請將註解取代為程式碼\n",
    "println(typeof(x))\n",
    "println(size(x))\n",
    "println(\"Min Element = \", findmin(x))\n",
    "println(\"Max Element = \", findmax(x))\n",
    "\n",
    "mEnd = time()\n",
    "mCostTime = (mEnd - mStart)*1000\n",
    "print(\"Create Array Cost Time = \", mCostTime, \" ms\")\n"
   ]
  },
  {
   "cell_type": "markdown",
   "metadata": {},
   "source": [
    "## Insertion Sort"
   ]
  },
  {
   "cell_type": "code",
   "execution_count": 2,
   "metadata": {},
   "outputs": [
    {
     "name": "stdout",
     "output_type": "stream",
     "text": [
      "Cost Time = 979.5475 ms\n",
      "Min Element = (200.0095991690914, 1)\n",
      "Max Element = (499.99824809322877, 100000)\n"
     ]
    },
    {
     "data": {
      "text/plain": [
       "Dict{String,Float64} with 1 entry:\n",
       "  \"InsertionSort\" => 979.548"
      ]
     },
     "execution_count": 2,
     "metadata": {},
     "output_type": "execute_result"
    }
   ],
   "source": [
    "mCostTime = (@elapsed x_sorted = sort(x, alg=InsertionSort))*1000\n",
    "println(\"Cost Time = \", mCostTime, \" ms\")\n",
    "println(\"Min Element = \", findmin(x_sorted))\n",
    "println(\"Max Element = \", findmax(x_sorted))\n",
    "mDictSorts = Dict(\"InsertionSort\" => mCostTime)"
   ]
  },
  {
   "cell_type": "markdown",
   "metadata": {},
   "source": [
    "## Merge Sort"
   ]
  },
  {
   "cell_type": "code",
   "execution_count": 3,
   "metadata": {},
   "outputs": [
    {
     "name": "stdout",
     "output_type": "stream",
     "text": [
      "Cost Time = 45.524 ms\n",
      "Min Element = (200.0095991690914, 1)\n",
      "Max Element = (499.99824809322877, 100000)\n"
     ]
    },
    {
     "data": {
      "text/plain": [
       "Dict{String,Float64} with 2 entries:\n",
       "  \"MergeSort\"     => 45.524\n",
       "  \"InsertionSort\" => 979.548"
      ]
     },
     "execution_count": 3,
     "metadata": {},
     "output_type": "execute_result"
    }
   ],
   "source": [
    "mCostTime = (@elapsed x_sorted = sort(x, alg=MergeSort))*1000\n",
    "println(\"Cost Time = \", mCostTime, \" ms\")\n",
    "println(\"Min Element = \", findmin(x_sorted))\n",
    "println(\"Max Element = \", findmax(x_sorted))\n",
    "push!(mDictSorts, \"MergeSort\" => mCostTime)"
   ]
  },
  {
   "cell_type": "markdown",
   "metadata": {},
   "source": [
    "## Partial Quick Sort"
   ]
  },
  {
   "cell_type": "code",
   "execution_count": 4,
   "metadata": {},
   "outputs": [
    {
     "name": "stdout",
     "output_type": "stream",
     "text": [
      "Cost Time = 41.288901 ms\n",
      "Min Element = (200.0095991690914, 1)\n",
      "Max Element = (499.99824809322877, 100000)\n"
     ]
    },
    {
     "data": {
      "text/plain": [
       "Dict{String,Float64} with 3 entries:\n",
       "  \"MergeSort\"        => 45.524\n",
       "  \"PartialQuickSort\" => 41.2889\n",
       "  \"InsertionSort\"    => 979.548"
      ]
     },
     "execution_count": 4,
     "metadata": {},
     "output_type": "execute_result"
    }
   ],
   "source": [
    "mCostTime = (@elapsed x_sorted = sort(x, alg=PartialQuickSort(1:100000)))*1000\n",
    "println(\"Cost Time = \", mCostTime, \" ms\")\n",
    "println(\"Min Element = \", findmin(x_sorted))\n",
    "println(\"Max Element = \", findmax(x_sorted))\n",
    "push!(mDictSorts, \"PartialQuickSort\" => mCostTime)"
   ]
  },
  {
   "cell_type": "markdown",
   "metadata": {},
   "source": [
    "## QuickSort"
   ]
  },
  {
   "cell_type": "code",
   "execution_count": 5,
   "metadata": {},
   "outputs": [
    {
     "name": "stdout",
     "output_type": "stream",
     "text": [
      "Cost Time = 40.720600000000005 ms\n",
      "Min Element = (200.0095991690914, 1)\n",
      "Max Element = (499.99824809322877, 100000)\n"
     ]
    },
    {
     "data": {
      "text/plain": [
       "Dict{String,Float64} with 4 entries:\n",
       "  \"MergeSort\"        => 45.524\n",
       "  \"PartialQuickSort\" => 41.2889\n",
       "  \"InsertionSort\"    => 979.548\n",
       "  \"QuickSort\"        => 40.7206"
      ]
     },
     "execution_count": 5,
     "metadata": {},
     "output_type": "execute_result"
    }
   ],
   "source": [
    "# @elapsed sort(x; alg=QuickSort)\n",
    "mCostTime = (@elapsed x_sorted = sort(x, alg=QuickSort))*1000\n",
    "println(\"Cost Time = \", mCostTime, \" ms\")\n",
    "println(\"Min Element = \", findmin(x_sorted))\n",
    "println(\"Max Element = \", findmax(x_sorted))\n",
    "push!(mDictSorts, \"QuickSort\" => mCostTime)"
   ]
  },
  {
   "cell_type": "markdown",
   "metadata": {},
   "source": [
    "## 請問哪一種排序方法的效能最好？"
   ]
  },
  {
   "cell_type": "code",
   "execution_count": 6,
   "metadata": {},
   "outputs": [
    {
     "data": {
      "text/plain": [
       "(40.720600000000005, \"QuickSort\")"
      ]
     },
     "execution_count": 6,
     "metadata": {},
     "output_type": "execute_result"
    }
   ],
   "source": [
    "findmin(mDictSorts)"
   ]
  },
  {
   "cell_type": "code",
   "execution_count": null,
   "metadata": {},
   "outputs": [],
   "source": []
  }
 ],
 "metadata": {
  "kernelspec": {
   "display_name": "Julia 1.4.0",
   "language": "julia",
   "name": "julia-1.4"
  },
  "language_info": {
   "file_extension": ".jl",
   "mimetype": "application/julia",
   "name": "julia",
   "version": "1.4.0"
  }
 },
 "nbformat": 4,
 "nbformat_minor": 4
}
