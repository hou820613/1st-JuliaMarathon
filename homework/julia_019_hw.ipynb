{
 "cells": [
  {
   "cell_type": "markdown",
   "metadata": {
    "colab_type": "text",
    "id": "CymtLvLsl4iT"
   },
   "source": [
    "## Day 019 作業：DataFrame 的排序及顯示\n",
    "\n",
    "同 Day 017，請載入 2020/4/2 COVID-19 Daily Report 資料集，計算每個國家/區域的累計確診人數。\n",
    "\n",
    "請依確診案例數，列出截至4月2日為止 (UTC 時間)，確診案例最多的10個國家/區域。"
   ]
  },
  {
   "cell_type": "code",
   "execution_count": 1,
   "metadata": {
    "colab": {},
    "colab_type": "code",
    "id": "czd81DRQl4iW"
   },
   "outputs": [],
   "source": [
    "using DataFrames, CSV"
   ]
  },
  {
   "cell_type": "code",
   "execution_count": 4,
   "metadata": {
    "colab": {},
    "colab_type": "code",
    "id": "sLp0Kx89l4ic"
   },
   "outputs": [
    {
     "name": "stdout",
     "output_type": "stream",
     "text": [
      "5×12 DataFrame\n",
      "│ Row │ FIPS   │ Admin2    │ Province_State │ Country_Region │\n",
      "│     │ \u001b[90mInt64⍰\u001b[39m │ \u001b[90mString⍰\u001b[39m   │ \u001b[90mString⍰\u001b[39m        │ \u001b[90mString\u001b[39m         │\n",
      "├─────┼────────┼───────────┼────────────────┼────────────────┤\n",
      "│ 1   │ 45001  │ Abbeville │ South Carolina │ US             │\n",
      "│ 2   │ 22001  │ Acadia    │ Louisiana      │ US             │\n",
      "│ 3   │ 51001  │ Accomack  │ Virginia       │ US             │\n",
      "│ 4   │ 16001  │ Ada       │ Idaho          │ US             │\n",
      "│ 5   │ 19001  │ Adair     │ Iowa           │ US             │\n",
      "\n",
      "│ Row │ Last_Update         │ Lat      │ Long_    │ Confirmed │ Deaths │\n",
      "│     │ \u001b[90mString\u001b[39m              │ \u001b[90mFloat64⍰\u001b[39m │ \u001b[90mFloat64⍰\u001b[39m │ \u001b[90mInt64\u001b[39m     │ \u001b[90mInt64\u001b[39m  │\n",
      "├─────┼─────────────────────┼──────────┼──────────┼───────────┼────────┤\n",
      "│ 1   │ 2020-04-02 23:25:27 │ 34.2233  │ -82.4617 │ 6         │ 0      │\n",
      "│ 2   │ 2020-04-02 23:25:27 │ 30.2951  │ -92.4142 │ 61        │ 1      │\n",
      "│ 3   │ 2020-04-02 23:25:27 │ 37.7671  │ -75.6323 │ 10        │ 0      │\n",
      "│ 4   │ 2020-04-02 23:25:27 │ 43.4527  │ -116.242 │ 312       │ 3      │\n",
      "│ 5   │ 2020-04-02 23:25:27 │ 41.3308  │ -94.4711 │ 1         │ 0      │\n",
      "\n",
      "│ Row │ Recovered │ Active │ Combined_Key                  │\n",
      "│     │ \u001b[90mInt64\u001b[39m     │ \u001b[90mInt64\u001b[39m  │ \u001b[90mString\u001b[39m                        │\n",
      "├─────┼───────────┼────────┼───────────────────────────────┤\n",
      "│ 1   │ 0         │ 0      │ Abbeville, South Carolina, US │\n",
      "│ 2   │ 0         │ 0      │ Acadia, Louisiana, US         │\n",
      "│ 3   │ 0         │ 0      │ Accomack, Virginia, US        │\n",
      "│ 4   │ 0         │ 0      │ Ada, Idaho, US                │\n",
      "│ 5   │ 0         │ 0      │ Adair, Iowa, US               │"
     ]
    }
   ],
   "source": [
    "df = CSV.read(\"04-02-2020.csv\")\n",
    "show(df[1:5,:],allcols=true)"
   ]
  },
  {
   "cell_type": "code",
   "execution_count": 16,
   "metadata": {
    "colab": {},
    "colab_type": "code",
    "id": "XFKjf3bVl4ih"
   },
   "outputs": [
    {
     "name": "stdout",
     "output_type": "stream",
     "text": [
      "10×2 DataFrame\n",
      "│ Row │ Country_Region │ Confirmed_sum │\n",
      "│     │ \u001b[90mString\u001b[39m         │ \u001b[90mInt64\u001b[39m         │\n",
      "├─────┼────────────────┼───────────────┤\n",
      "│ 1   │ US             │ 243453        │\n",
      "│ 2   │ Italy          │ 115242        │\n",
      "│ 3   │ Spain          │ 112065        │\n",
      "│ 4   │ Germany        │ 84794         │\n",
      "│ 5   │ China          │ 82432         │\n",
      "│ 6   │ France         │ 59929         │\n",
      "│ 7   │ Iran           │ 50468         │\n",
      "│ 8   │ United Kingdom │ 34173         │\n",
      "│ 9   │ Switzerland    │ 18827         │\n",
      "│ 10  │ Turkey         │ 18135         │"
     ]
    }
   ],
   "source": [
    "# 請在此輸入程式碼\n",
    "df_confirmed = df[:,[:Country_Region, :Confirmed]]\n",
    "df_sumConfirmed = by(df_confirmed, :Country_Region, :Confirmed=>sum)\n",
    "sort!(df_sumConfirmed,:Confirmed_sum,rev=true)\n",
    "show(df_sumConfirmed[1:10,:])"
   ]
  },
  {
   "cell_type": "code",
   "execution_count": null,
   "metadata": {},
   "outputs": [],
   "source": []
  }
 ],
 "metadata": {
  "colab": {
   "name": "julia_019_hw.ipynb",
   "provenance": []
  },
  "kernelspec": {
   "display_name": "Julia 1.4.0",
   "language": "julia",
   "name": "julia-1.4"
  },
  "language_info": {
   "file_extension": ".jl",
   "mimetype": "application/julia",
   "name": "julia",
   "version": "1.4.0"
  }
 },
 "nbformat": 4,
 "nbformat_minor": 1
}
