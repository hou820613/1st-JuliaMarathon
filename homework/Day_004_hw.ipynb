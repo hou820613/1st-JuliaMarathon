{
 "cells": [
  {
   "cell_type": "markdown",
   "metadata": {},
   "source": [
    "# Julia 數值系統介紹\n",
    "\n",
    "## Day 004 作業\n",
    "\n",
    "今天的內容提到整數及浮點數型別之最小值和最大值：\n",
    "\n",
    "|是否有正負號|型別|<div style=\"width:120px\">最大值</div>|<div style=\"width:120px\">最小值</div>|\n",
    "|---|---|---|---|\n",
    "|有|Int128, Int64, Int32, Int16, Int8|$2^{位元數-1}-1$|$-2^{位元數-1}$|\n",
    "|無|UInt128, UInt64, UInt32, UInt16, UInt8|$2^{位元數}-1$|$0$|\n",
    "\n",
    "|型別|最小值|最大值|\n",
    "|---|---|---|\n",
    "|`Float64`|-Inf|Inf|\n",
    "|`Float32`|-Inf 或 -Inf32|Inf 或 Inf32|\n",
    "|`Float16`|-Inf 或 -Inf16|Inf 或 Inf16|\n",
    "\n",
    "### 作業：範例程式示範了 Int64 及 Float64 的最小值和最大值，作業請列出並觀察其他整數及浮點數型別的最小值和最大值。"
   ]
  },
  {
   "cell_type": "markdown",
   "metadata": {},
   "source": [
    "呼叫 `typemin()` 及 `typemax()` 函式得到各型別的最小值和最大值。\n",
    "\n",
    "列出 Int128, Int32, Int16, Int8, UInt128, UInt64, UInt32, UInt16, UInt8 整數型別的最小值及最大值"
   ]
  },
  {
   "cell_type": "code",
   "execution_count": 22,
   "metadata": {},
   "outputs": [
    {
     "name": "stdout",
     "output_type": "stream",
     "text": [
      "Int128's Maximum = 170141183460469231731687303715884105727\n",
      "Int128's Minimum = -170141183460469231731687303715884105728\n",
      "\n",
      "Int32's Maximum = 2147483647\n",
      "Int32's Minimum = -2147483648\n",
      "\n",
      "Int16's Maximum = 32767\n",
      "Int16's Minimum = -32768\n",
      "\n",
      "UInt128's Maximum = 340282366920938463463374607431768211455\n",
      "UInt128's Minimum = 0\n",
      "\n",
      "UInt32's Maximum = 4294967295\n",
      "UInt32's Minimum = 0\n",
      "\n",
      "UInt16's Maximum = 65535\n",
      "UInt16's Minimum = 0\n",
      "\n"
     ]
    }
   ],
   "source": [
    "print(\"Int128's Maximum = \", typemax(Int128),\"\\n\")\n",
    "print(\"Int128's Minimum = \", typemin(Int128),\"\\n\")\n",
    "print(\"\\n\")\n",
    "print(\"Int32's Maximum = \", typemax(Int32),\"\\n\")\n",
    "print(\"Int32's Minimum = \", typemin(Int32),\"\\n\")\n",
    "print(\"\\n\")\n",
    "print(\"Int16's Maximum = \", typemax(Int16),\"\\n\")\n",
    "print(\"Int16's Minimum = \", typemin(Int16),\"\\n\")\n",
    "print(\"\\n\")\n",
    "\n",
    "\n",
    "print(\"UInt128's Maximum = \", typemax(UInt128),\"\\n\")\n",
    "print(\"UInt128's Minimum = \", typemin(UInt128),\"\\n\")\n",
    "print(\"\\n\")\n",
    "print(\"UInt32's Maximum = \", typemax(UInt32),\"\\n\")\n",
    "print(\"UInt32's Minimum = \", typemin(UInt32),\"\\n\")\n",
    "print(\"\\n\")\n",
    "print(\"UInt16's Maximum = \", typemax(UInt16),\"\\n\")\n",
    "print(\"UInt16's Minimum = \", typemin(UInt16),\"\\n\")\n",
    "print(\"\\n\")"
   ]
  },
  {
   "cell_type": "markdown",
   "metadata": {},
   "source": [
    "列出 Float32, Float16 浮點數型別的最小和最大值"
   ]
  },
  {
   "cell_type": "code",
   "execution_count": 23,
   "metadata": {},
   "outputs": [
    {
     "name": "stdout",
     "output_type": "stream",
     "text": [
      "Float32's Maximum = Inf\n",
      "Float32's Minimum = -Inf\n"
     ]
    }
   ],
   "source": [
    "print(\"Float32's Maximum = \", typemax(Float32),\"\\n\")\n",
    "print(\"Float32's Minimum = \", typemin(Float32),\"\\n\")"
   ]
  },
  {
   "cell_type": "code",
   "execution_count": 24,
   "metadata": {},
   "outputs": [
    {
     "name": "stdout",
     "output_type": "stream",
     "text": [
      "Float16's Maximum = Inf\n",
      "Float16's Minimum = -Inf\n"
     ]
    }
   ],
   "source": [
    "print(\"Float16's Maximum = \", typemax(Float16),\"\\n\")\n",
    "print(\"Float16's Minimum = \", typemin(Float16),\"\\n\")"
   ]
  },
  {
   "cell_type": "code",
   "execution_count": null,
   "metadata": {},
   "outputs": [],
   "source": []
  }
 ],
 "metadata": {
  "@webio": {
   "lastCommId": null,
   "lastKernelId": null
  },
  "kernelspec": {
   "display_name": "Julia 1.4.0",
   "language": "julia",
   "name": "julia-1.4"
  },
  "language_info": {
   "file_extension": ".jl",
   "mimetype": "application/julia",
   "name": "julia",
   "version": "1.4.0"
  }
 },
 "nbformat": 4,
 "nbformat_minor": 4
}
