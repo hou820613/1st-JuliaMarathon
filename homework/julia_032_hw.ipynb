{
 "cells": [
  {
   "cell_type": "markdown",
   "metadata": {},
   "source": [
    "# Julia 深度學習：類神經網路模型簡介\n",
    "\n",
    "## 作業 032：訓練 MLP 學習門牌號碼資料集\n",
    "\n",
    "訓練一個 MLP 模型來學習門牌號碼資料集。\n",
    "\n",
    "注意：MLP 模型的能力有限，可能會導致訓練起來效果不佳。\n",
    "\n",
    "注意：近期 Flux 正在持續更新，請確保您的 Julia 在 v1.3 版以上，以及 Flux 在 v0.10.4 以上或是最新版。"
   ]
  },
  {
   "cell_type": "code",
   "execution_count": null,
   "metadata": {},
   "outputs": [],
   "source": [
    "using Pkg\n",
    "Pkg.add(\"Flux\")"
   ]
  },
  {
   "cell_type": "code",
   "execution_count": 17,
   "metadata": {},
   "outputs": [],
   "source": [
    "using Flux\n",
    "using Flux.Data: DataLoader\n",
    "using Flux: @epochs, onecold, onehotbatch, throttle, logitcrossentropy\n",
    "using MLDatasets\n",
    "using Statistics"
   ]
  },
  {
   "cell_type": "markdown",
   "metadata": {},
   "source": [
    "## 讀取資料"
   ]
  },
  {
   "cell_type": "markdown",
   "metadata": {},
   "source": [
    "呼叫 SVHN2 資料集的過程中，會先去檢查以前是否有下載過，如果是第一次下載，過程中會詢問是否下載資料集，請回答 `y`。整個資料集的大小約為 1.6 GB，下載時間可能會稍久，請耐心等候。"
   ]
  },
  {
   "cell_type": "code",
   "execution_count": 18,
   "metadata": {},
   "outputs": [
    {
     "data": {
      "text/plain": [
       "(Float32[0.14901961 0.15294118 … 0.19607843 0.1882353; 0.15294118 0.15294118 … 0.2 0.1882353; … ; 0.16470589 0.16862746 … 0.1764706 0.17254902; 0.15294118 0.15294118 … 0.16470589 0.16470589]\n",
       "\n",
       "Float32[0.40392157 0.40784314 … 0.45882353 0.4509804; 0.40784314 0.40784314 … 0.4627451 0.4509804; … ; 0.40392157 0.39607844 … 0.45490196 0.4509804; 0.38039216 0.38039216 … 0.44313726 0.44313726]\n",
       "\n",
       "Float32[0.23529412 0.23921569 … 0.29803923 0.2901961; 0.23921569 0.23921569 … 0.3019608 0.2901961; … ; 0.24313726 0.24705882 … 0.28235295 0.2784314; 0.22352941 0.22352941 … 0.27058825 0.2784314]\n",
       "\n",
       "Float32[0.5058824 0.5254902 … 0.5411765 0.5137255; 0.49803922 0.52156866 … 0.50980395 0.47843137; … ; 0.48235294 0.49411765 … 0.39607844 0.43529412; 0.48235294 0.49019608 … 0.4392157 0.48235294]\n",
       "\n",
       "Float32[0.5568628 0.5882353 … 0.59607846 0.5686275; 0.56078434 0.58431375 … 0.5647059 0.53333336; … ; 0.5254902 0.5372549 … 0.41960785 0.4627451; 0.5294118 0.5372549 … 0.4627451 0.50980395]\n",
       "\n",
       "Float32[0.6 0.627451 … 0.64705884 0.61960787; 0.59607846 0.61960787 … 0.6156863 0.58431375; … ; 0.6117647 0.6156863 … 0.5254902 0.5647059; 0.6156863 0.61960787 … 0.5647059 0.6117647]\n",
       "\n",
       "Float32[0.5882353 0.5882353 … 0.5764706 0.62352943; 0.5882353 0.5921569 … 0.5764706 0.62352943; … ; 0.5882353 0.6 … 0.54509807 0.59607846; 0.5764706 0.5882353 … 0.5411765 0.59607846]\n",
       "\n",
       "Float32[0.627451 0.627451 … 0.64705884 0.69411767; 0.6392157 0.6392157 … 0.6431373 0.69411767; … ; 0.67058825 0.67058825 … 0.60784316 0.65882355; 0.6627451 0.6627451 … 0.60784316 0.65882355]\n",
       "\n",
       "Float32[0.6627451 0.6627451 … 0.7019608 0.7411765; 0.6666667 0.6627451 … 0.7019608 0.74509805; … ; 0.70980394 0.7058824 … 0.6666667 0.7137255; 0.7058824 0.7019608 … 0.67058825 0.7176471]\n",
       "\n",
       "...\n",
       "\n",
       "Float32[0.4509804 0.47843137 … 0.45882353 0.5176471; 0.45490196 0.48235294 … 0.45882353 0.52156866; … ; 0.44705883 0.4627451 … 0.56078434 0.56078434; 0.4509804 0.46666667 … 0.5647059 0.5647059]\n",
       "\n",
       "Float32[0.5176471 0.54509807 … 0.47843137 0.5411765; 0.52156866 0.54901963 … 0.47843137 0.54901963; … ; 0.53333336 0.54509807 … 0.6117647 0.6117647; 0.53333336 0.54509807 … 0.6156863 0.6156863]\n",
       "\n",
       "Float32[0.5568628 0.5803922 … 0.5372549 0.59607846; 0.56078434 0.58431375 … 0.5372549 0.59607846; … ; 0.5568628 0.5686275 … 0.6431373 0.64705884; 0.56078434 0.57254905 … 0.64705884 0.64705884]\n",
       "\n",
       "Float32[0.3764706 0.3764706 … 0.38431373 0.38039216; 0.38039216 0.38039216 … 0.3882353 0.3882353; … ; 0.34117648 0.34117648 … 0.4627451 0.43529412; 0.34509805 0.34509805 … 0.43137255 0.40784314]\n",
       "\n",
       "Float32[0.25490198 0.25490198 … 0.2627451 0.25882354; 0.25490198 0.25490198 … 0.27450982 0.27058825; … ; 0.24313726 0.24705882 … 0.3882353 0.36078432; 0.24705882 0.2509804 … 0.35686275 0.33333334]\n",
       "\n",
       "Float32[0.18431373 0.1882353 … 0.18039216 0.1764706; 0.19215687 0.19607843 … 0.1882353 0.1882353; … ; 0.21568628 0.21176471 … 0.3254902 0.2901961; 0.21960784 0.21568628 … 0.29411766 0.26666668]\n",
       "\n",
       "Float32[0.39607844 0.42745098 … 0.40784314 0.37254903; 0.39215687 0.41960785 … 0.4117647 0.3764706; … ; 0.37254903 0.3647059 … 0.4 0.4; 0.3764706 0.3647059 … 0.4 0.4]\n",
       "\n",
       "Float32[0.29411766 0.32941177 … 0.3254902 0.28627452; 0.28627452 0.3137255 … 0.32941177 0.2901961; … ; 0.24705882 0.23921569 … 0.2784314 0.2784314; 0.2509804 0.23921569 … 0.2784314 0.2784314]\n",
       "\n",
       "Float32[0.23529412 0.27058825 … 0.2784314 0.24313726; 0.23529412 0.2627451 … 0.28627452 0.24705882; … ; 0.20392157 0.19607843 … 0.19607843 0.19607843; 0.2 0.19215687 … 0.19607843 0.19607843], [5, 2, 1, 10, 6, 1, 9, 1, 1, 8  …  1, 7, 1, 3, 6, 2, 2, 7, 6, 7])"
      ]
     },
     "execution_count": 18,
     "metadata": {},
     "output_type": "execute_result"
    }
   ],
   "source": [
    "origintrain_X, origintrain_y = SVHN2.traindata(Float32)\n",
    "origintest_X,  origintest_y  = SVHN2.testdata(Float32)"
   ]
  },
  {
   "cell_type": "code",
   "execution_count": 19,
   "metadata": {},
   "outputs": [
    {
     "name": "stdout",
     "output_type": "stream",
     "text": [
      "(32, 32, 3, 73257)\n",
      "(73257,)\n",
      "(32, 32, 3, 26032)\n",
      "(26032,)\n"
     ]
    }
   ],
   "source": [
    "println(size(origintrain_X))\n",
    "println(size(origintrain_y))\n",
    "println(size(origintest_X))\n",
    "println(size(origintest_y))"
   ]
  },
  {
   "cell_type": "code",
   "execution_count": 20,
   "metadata": {},
   "outputs": [
    {
     "data": {
      "text/plain": [
       "10×26032 Flux.OneHotMatrix{Array{Flux.OneHotVector,1}}:\n",
       " 0  0  1  0  0  1  0  1  1  0  0  0  0  …  1  0  1  0  1  0  0  0  0  0  0  0\n",
       " 0  1  0  0  0  0  0  0  0  0  0  0  0     0  0  0  0  0  0  0  1  1  0  0  0\n",
       " 0  0  0  0  0  0  0  0  0  0  1  0  0     0  0  0  0  0  1  0  0  0  0  0  0\n",
       " 0  0  0  0  0  0  0  0  0  0  0  0  0     0  0  0  0  0  0  0  0  0  0  0  0\n",
       " 1  0  0  0  0  0  0  0  0  0  0  0  1     0  0  0  0  0  0  0  0  0  0  0  0\n",
       " 0  0  0  0  1  0  0  0  0  0  0  1  0  …  0  0  0  0  0  0  1  0  0  0  1  0\n",
       " 0  0  0  0  0  0  0  0  0  0  0  0  0     0  0  0  1  0  0  0  0  0  1  0  1\n",
       " 0  0  0  0  0  0  0  0  0  1  0  0  0     0  0  0  0  0  0  0  0  0  0  0  0\n",
       " 0  0  0  0  0  0  1  0  0  0  0  0  0     0  0  0  0  0  0  0  0  0  0  0  0\n",
       " 0  0  0  1  0  0  0  0  0  0  0  0  0     0  1  0  0  0  0  0  0  0  0  0  0"
      ]
     },
     "execution_count": 20,
     "metadata": {},
     "output_type": "execute_result"
    }
   ],
   "source": [
    "train_X = Flux.flatten(origintrain_X)\n",
    "test_X = Flux.flatten(origintest_X)\n",
    "train_y = onehotbatch(origintrain_y, 1:10)\n",
    "test_y = onehotbatch(origintest_y, 1:10)"
   ]
  },
  {
   "cell_type": "code",
   "execution_count": 21,
   "metadata": {},
   "outputs": [
    {
     "name": "stdout",
     "output_type": "stream",
     "text": [
      "(3072, 73257)\n",
      "(10, 73257)\n",
      "(3072, 26032)\n",
      "(10, 26032)\n"
     ]
    }
   ],
   "source": [
    "println(size(train_X))\n",
    "println(size(train_y))\n",
    "println(size(test_X))\n",
    "println(size(test_y))"
   ]
  },
  {
   "cell_type": "code",
   "execution_count": 22,
   "metadata": {},
   "outputs": [
    {
     "data": {
      "text/plain": [
       "DataLoader((Float32[0.14901961 0.5058824 … 0.3764706 0.39607844; 0.15294118 0.49803922 … 0.38039216 0.39215687; … ; 0.2784314 0.5647059 … 0.2901961 0.19607843; 0.2784314 0.6117647 … 0.26666668 0.19607843], Bool[0 0 … 0 0; 0 1 … 0 0; … ; 0 0 … 0 0; 0 0 … 0 0]), 1024, 26032, true, 26032, [1, 2, 3, 4, 5, 6, 7, 8, 9, 10  …  26023, 26024, 26025, 26026, 26027, 26028, 26029, 26030, 26031, 26032], false)"
      ]
     },
     "execution_count": 22,
     "metadata": {},
     "output_type": "execute_result"
    }
   ],
   "source": [
    "batchsize = 1024\n",
    "train = DataLoader(train_X, train_y, batchsize=batchsize, shuffle=true)\n",
    "test = DataLoader(test_X, test_y, batchsize=batchsize)"
   ]
  },
  {
   "cell_type": "code",
   "execution_count": 23,
   "metadata": {},
   "outputs": [
    {
     "data": {
      "text/plain": [
       "(3072, 73257)"
      ]
     },
     "execution_count": 23,
     "metadata": {},
     "output_type": "execute_result"
    }
   ],
   "source": [
    "size(train_X)"
   ]
  },
  {
   "cell_type": "code",
   "execution_count": 24,
   "metadata": {},
   "outputs": [
    {
     "data": {
      "text/plain": [
       "Chain(Dense(3072, 1536, σ), Dense(1536, 768, σ), Dense(768, 256, σ), Dense(256, 128, σ), Dense(128, 10), softmax)"
      ]
     },
     "execution_count": 24,
     "metadata": {},
     "output_type": "execute_result"
    }
   ],
   "source": [
    "# model = Chain(\n",
    "#   Dense(3072, 768, σ),\n",
    "#   Dense(768, 256,σ),\n",
    "#   Dense(256, 10),\n",
    "#   softmax)\n",
    "\n",
    "model = Chain(\n",
    "  Dense(3072, 1536, σ),\n",
    "  Dense(1536, 768, σ),\n",
    "  Dense(768, 256, σ),\n",
    "  Dense(256, 128, σ),\n",
    "  Dense(128, 10),\n",
    "  softmax)\n",
    "\n",
    "# model = Chain(\n",
    "#   Dense(784, 256, relu),\n",
    "#   Dense(256, 128, relu),\n",
    "#   Dense(128, 10),\n",
    "#   softmax)"
   ]
  },
  {
   "cell_type": "code",
   "execution_count": 25,
   "metadata": {},
   "outputs": [
    {
     "data": {
      "text/plain": [
       "evalcb (generic function with 1 method)"
      ]
     },
     "execution_count": 25,
     "metadata": {},
     "output_type": "execute_result"
    }
   ],
   "source": [
    "loss(x, y) = logitcrossentropy(model(x), y)\n",
    "function test_loss()\n",
    "    l = 0f0\n",
    "    for (x, y) in test\n",
    "        l += loss(x, y)\n",
    "    end\n",
    "    l/length(test)\n",
    "end\n",
    "evalcb() = @show(test_loss())"
   ]
  },
  {
   "cell_type": "code",
   "execution_count": 26,
   "metadata": {},
   "outputs": [
    {
     "name": "stderr",
     "output_type": "stream",
     "text": [
      "┌ Info: Epoch 1\n",
      "└ @ Main C:\\Users\\User\\.julia\\packages\\Flux\\Fj3bt\\src\\optimise\\train.jl:121\n"
     ]
    },
    {
     "name": "stdout",
     "output_type": "stream",
     "text": [
      "test_loss() = 2.2959933f0\n",
      "test_loss() = 2.2451975f0\n",
      "test_loss() = 2.2533665f0\n"
     ]
    },
    {
     "name": "stderr",
     "output_type": "stream",
     "text": [
      "┌ Info: Epoch 2\n",
      "└ @ Main C:\\Users\\User\\.julia\\packages\\Flux\\Fj3bt\\src\\optimise\\train.jl:121\n"
     ]
    },
    {
     "name": "stdout",
     "output_type": "stream",
     "text": [
      "test_loss() = 2.2451954f0\n",
      "test_loss() = 2.2458086f0\n"
     ]
    },
    {
     "name": "stderr",
     "output_type": "stream",
     "text": [
      "┌ Info: Epoch 3\n",
      "└ @ Main C:\\Users\\User\\.julia\\packages\\Flux\\Fj3bt\\src\\optimise\\train.jl:121\n"
     ]
    },
    {
     "name": "stdout",
     "output_type": "stream",
     "text": [
      "test_loss() = 2.247957f0\n"
     ]
    },
    {
     "name": "stderr",
     "output_type": "stream",
     "text": [
      "┌ Info: Epoch 4\n",
      "└ @ Main C:\\Users\\User\\.julia\\packages\\Flux\\Fj3bt\\src\\optimise\\train.jl:121\n"
     ]
    },
    {
     "name": "stdout",
     "output_type": "stream",
     "text": [
      "test_loss() = 2.2463098f0\n",
      "test_loss() = 2.2449305f0\n",
      "test_loss() = 2.2456987f0"
     ]
    },
    {
     "name": "stderr",
     "output_type": "stream",
     "text": [
      "┌ Info: Epoch 5\n",
      "└ @ Main C:\\Users\\User\\.julia\\packages\\Flux\\Fj3bt\\src\\optimise\\train.jl:121\n"
     ]
    },
    {
     "name": "stdout",
     "output_type": "stream",
     "text": [
      "\n",
      "test_loss() = 2.2452912f0\n",
      "test_loss() = 2.245207f0\n"
     ]
    },
    {
     "name": "stderr",
     "output_type": "stream",
     "text": [
      "┌ Info: Epoch 6\n",
      "└ @ Main C:\\Users\\User\\.julia\\packages\\Flux\\Fj3bt\\src\\optimise\\train.jl:121\n"
     ]
    },
    {
     "name": "stdout",
     "output_type": "stream",
     "text": [
      "test_loss() = 2.2465518f0\n",
      "test_loss() = 2.245768f0\n"
     ]
    },
    {
     "name": "stderr",
     "output_type": "stream",
     "text": [
      "┌ Info: Epoch 7\n",
      "└ @ Main C:\\Users\\User\\.julia\\packages\\Flux\\Fj3bt\\src\\optimise\\train.jl:121\n"
     ]
    },
    {
     "name": "stdout",
     "output_type": "stream",
     "text": [
      "test_loss() = 2.2456381f0\n"
     ]
    },
    {
     "name": "stderr",
     "output_type": "stream",
     "text": [
      "┌ Info: Epoch 8\n",
      "└ @ Main C:\\Users\\User\\.julia\\packages\\Flux\\Fj3bt\\src\\optimise\\train.jl:121\n"
     ]
    },
    {
     "name": "stdout",
     "output_type": "stream",
     "text": [
      "test_loss() = 2.2476206f0\n",
      "test_loss() = 2.245648f0\n"
     ]
    },
    {
     "name": "stderr",
     "output_type": "stream",
     "text": [
      "┌ Info: Epoch 9\n",
      "└ @ Main C:\\Users\\User\\.julia\\packages\\Flux\\Fj3bt\\src\\optimise\\train.jl:121\n"
     ]
    },
    {
     "name": "stdout",
     "output_type": "stream",
     "text": [
      "test_loss() = 2.2454543f0\n",
      "test_loss() = 2.2450178f0\n",
      "test_loss() = 2.2456598f0\n"
     ]
    },
    {
     "name": "stderr",
     "output_type": "stream",
     "text": [
      "┌ Info: Epoch 10\n",
      "└ @ Main C:\\Users\\User\\.julia\\packages\\Flux\\Fj3bt\\src\\optimise\\train.jl:121\n"
     ]
    },
    {
     "name": "stdout",
     "output_type": "stream",
     "text": [
      "test_loss() = 2.2459617f0\n"
     ]
    },
    {
     "name": "stderr",
     "output_type": "stream",
     "text": [
      "┌ Info: Epoch 11\n",
      "└ @ Main C:\\Users\\User\\.julia\\packages\\Flux\\Fj3bt\\src\\optimise\\train.jl:121\n"
     ]
    },
    {
     "name": "stdout",
     "output_type": "stream",
     "text": [
      "test_loss() = 2.2454147f0\n",
      "test_loss() = 2.2451837f0\n"
     ]
    },
    {
     "name": "stderr",
     "output_type": "stream",
     "text": [
      "┌ Info: Epoch 12\n",
      "└ @ Main C:\\Users\\User\\.julia\\packages\\Flux\\Fj3bt\\src\\optimise\\train.jl:121\n"
     ]
    },
    {
     "name": "stdout",
     "output_type": "stream",
     "text": [
      "test_loss() = 2.2452474f0\n",
      "test_loss() = 2.245167f0\n"
     ]
    },
    {
     "name": "stderr",
     "output_type": "stream",
     "text": [
      "┌ Info: Epoch 13\n",
      "└ @ Main C:\\Users\\User\\.julia\\packages\\Flux\\Fj3bt\\src\\optimise\\train.jl:121\n"
     ]
    },
    {
     "name": "stdout",
     "output_type": "stream",
     "text": [
      "test_loss() = 2.247278f0\n",
      "test_loss() = 2.2453902f0\n",
      "test_loss() = 2.2468958f0\n"
     ]
    },
    {
     "name": "stderr",
     "output_type": "stream",
     "text": [
      "┌ Info: Epoch 14\n",
      "└ @ Main C:\\Users\\User\\.julia\\packages\\Flux\\Fj3bt\\src\\optimise\\train.jl:121\n"
     ]
    },
    {
     "name": "stdout",
     "output_type": "stream",
     "text": [
      "test_loss() = 2.24568f0\n",
      "test_loss() = 2.246213f0\n"
     ]
    },
    {
     "name": "stderr",
     "output_type": "stream",
     "text": [
      "┌ Info: Epoch 15\n",
      "└ @ Main C:\\Users\\User\\.julia\\packages\\Flux\\Fj3bt\\src\\optimise\\train.jl:121\n"
     ]
    },
    {
     "name": "stdout",
     "output_type": "stream",
     "text": [
      "test_loss() = 2.2467601f0\n"
     ]
    },
    {
     "name": "stderr",
     "output_type": "stream",
     "text": [
      "┌ Info: Epoch 16\n",
      "└ @ Main C:\\Users\\User\\.julia\\packages\\Flux\\Fj3bt\\src\\optimise\\train.jl:121\n"
     ]
    },
    {
     "name": "stdout",
     "output_type": "stream",
     "text": [
      "test_loss() = 2.2456083f0\n",
      "test_loss() = 2.2454007f0\n"
     ]
    },
    {
     "name": "stderr",
     "output_type": "stream",
     "text": [
      "┌ Info: Epoch 17\n",
      "└ @ Main C:\\Users\\User\\.julia\\packages\\Flux\\Fj3bt\\src\\optimise\\train.jl:121\n"
     ]
    },
    {
     "name": "stdout",
     "output_type": "stream",
     "text": [
      "test_loss() = 2.2478468f0\n",
      "test_loss() = 2.2464736f0\n",
      "test_loss() = 2.2456493f0\n"
     ]
    },
    {
     "name": "stderr",
     "output_type": "stream",
     "text": [
      "┌ Info: Epoch 18\n",
      "└ @ Main C:\\Users\\User\\.julia\\packages\\Flux\\Fj3bt\\src\\optimise\\train.jl:121\n"
     ]
    },
    {
     "name": "stdout",
     "output_type": "stream",
     "text": [
      "test_loss() = 2.2454305f0\n"
     ]
    },
    {
     "name": "stderr",
     "output_type": "stream",
     "text": [
      "┌ Info: Epoch 19\n",
      "└ @ Main C:\\Users\\User\\.julia\\packages\\Flux\\Fj3bt\\src\\optimise\\train.jl:121\n"
     ]
    },
    {
     "name": "stdout",
     "output_type": "stream",
     "text": [
      "test_loss() = 2.245773f0\n",
      "test_loss() = 2.2467f0\n",
      "test_loss() = 2.2454882f0\n"
     ]
    },
    {
     "name": "stderr",
     "output_type": "stream",
     "text": [
      "┌ Info: Epoch 20\n",
      "└ @ Main C:\\Users\\User\\.julia\\packages\\Flux\\Fj3bt\\src\\optimise\\train.jl:121\n"
     ]
    },
    {
     "name": "stdout",
     "output_type": "stream",
     "text": [
      "test_loss() = 2.2464564f0\n"
     ]
    }
   ],
   "source": [
    "epochs = 20\n",
    "@epochs epochs Flux.train!(loss, params(model), train, ADAM(0.005), cb=throttle(evalcb, 10))"
   ]
  },
  {
   "cell_type": "code",
   "execution_count": 27,
   "metadata": {},
   "outputs": [
    {
     "data": {
      "text/plain": [
       "0.1958743085433313"
      ]
     },
     "execution_count": 27,
     "metadata": {},
     "output_type": "execute_result"
    }
   ],
   "source": [
    "accuracy(x, y) = mean(onecold(model(x)) .== onecold(y))\n",
    "accuracy(test_X, test_y)"
   ]
  },
  {
   "cell_type": "markdown",
   "metadata": {},
   "source": [
    "### SVM Testing"
   ]
  },
  {
   "cell_type": "code",
   "execution_count": 10,
   "metadata": {},
   "outputs": [],
   "source": [
    "using LIBSVM, MLDatasets, Statistics"
   ]
  },
  {
   "cell_type": "code",
   "execution_count": 11,
   "metadata": {},
   "outputs": [
    {
     "name": "stdout",
     "output_type": "stream",
     "text": [
      "(3072, 73257)\n",
      "(73257,)\n"
     ]
    }
   ],
   "source": [
    "train_y = string.(origintrain_y) # convert to string type\n",
    "test_y =  string.(origintest_y) # convert to string type\n",
    "println(size(train_X))\n",
    "println(size(train_y))"
   ]
  },
  {
   "cell_type": "code",
   "execution_count": 28,
   "metadata": {},
   "outputs": [
    {
     "name": "stdout",
     "output_type": "stream",
     "text": [
      "(73257, 3072)\n"
     ]
    },
    {
     "data": {
      "text/plain": [
       "SVC(LIBSVM.Kernel.RadialBasis, 0.0003255208333333333, nothing, 1.0, 3, 0.0, 0.001, true, false, false, LIBSVM.SVM{Bool}(SVC, LIBSVM.Kernel.RadialBasis, nothing, 3072, 2, Bool[1, 0], Int32[1, 2], Float64[], Int32[], LIBSVM.SupportVectors{Bool,Float32}(339, Int32[100, 239], Bool[1, 1, 1, 1, 1, 1, 1, 1, 1, 1  …  0, 0, 0, 0, 0, 0, 0, 0, 0, 0], Float32[0.12941177 0.23529412 … 0.28235295 0.3529412; 0.23529412 0.49803922 … 0.34901962 0.37254903; … ; 0.25490198 0.5921569 … 0.16470589 0.31764707; 0.972549 0.92941177 … 0.078431375 0.12156863], Int32[1, 19, 22, 33, 42, 55, 69, 73, 83, 91  …  969, 972, 974, 976, 981, 983, 993, 996, 998, 1000], LIBSVM.SVMNode[LIBSVM.SVMNode(1, 0.12941177189350128), LIBSVM.SVMNode(1, 0.23529411852359772), LIBSVM.SVMNode(1, 0.2705882489681244), LIBSVM.SVMNode(1, 0.10980392247438431), LIBSVM.SVMNode(1, 0.3450980484485626), LIBSVM.SVMNode(1, 0.3176470696926117), LIBSVM.SVMNode(1, 0.250980406999588), LIBSVM.SVMNode(1, 0.3294117748737335), LIBSVM.SVMNode(1, 0.09019608050584793), LIBSVM.SVMNode(1, 0.10588235408067703)  …  LIBSVM.SVMNode(1, 0.4274509847164154), LIBSVM.SVMNode(1, 0.40784314274787903), LIBSVM.SVMNode(1, 0.40784314274787903), LIBSVM.SVMNode(1, 0.3764705955982208), LIBSVM.SVMNode(1, 0.3843137323856354), LIBSVM.SVMNode(1, 0.3803921639919281), LIBSVM.SVMNode(1, 0.3333333432674408), LIBSVM.SVMNode(1, 0.3333333432674408), LIBSVM.SVMNode(1, 0.2823529541492462), LIBSVM.SVMNode(1, 0.3529411852359772)]), 0.0, [1.0; 1.0; … ; -0.5050941757424394; -0.030435644940254275], Float64[], Float64[], [0.9987414153914453], 3, 0.0003255208333333333, 200.0, 0.001, 1.0, 0.5, 0.1, true, false))"
      ]
     },
     "execution_count": 28,
     "metadata": {},
     "output_type": "execute_result"
    }
   ],
   "source": [
    "svmtrain_X = reshape(train_X,size(train_X)[2],size(train_X)[1])\n",
    "println(size(svmtrain_X))\n",
    "model = LIBSVM.fit!(SVC(), svmtrain_X[1:1000,:], train_y[1:1000])"
   ]
  },
  {
   "cell_type": "code",
   "execution_count": 29,
   "metadata": {},
   "outputs": [
    {
     "data": {
      "text/plain": [
       "90.0"
      ]
     },
     "execution_count": 29,
     "metadata": {},
     "output_type": "execute_result"
    }
   ],
   "source": [
    "svmtest_X = reshape(test_X,size(test_X)[2],size(test_X)[1])\n",
    "predicted_labels, decision_values = LIBSVM.predict(model, svmtest_X)\n",
    "accuracy() = mean((predicted_labels .== test_y))*100\n",
    "accuracy()"
   ]
  },
  {
   "cell_type": "code",
   "execution_count": null,
   "metadata": {},
   "outputs": [],
   "source": []
  },
  {
   "cell_type": "code",
   "execution_count": null,
   "metadata": {},
   "outputs": [],
   "source": []
  }
 ],
 "metadata": {
  "kernelspec": {
   "display_name": "Julia 1.4.0",
   "language": "julia",
   "name": "julia-1.4"
  },
  "language_info": {
   "file_extension": ".jl",
   "mimetype": "application/julia",
   "name": "julia",
   "version": "1.4.0"
  }
 },
 "nbformat": 4,
 "nbformat_minor": 4
}
