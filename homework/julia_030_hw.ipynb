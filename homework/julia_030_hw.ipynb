{
 "cells": [
  {
   "cell_type": "markdown",
   "metadata": {},
   "source": [
    "# Julia 機器學習：DecisionTree 決策樹\n",
    "\n",
    "## 作業 030：乳癌預測資料集\n",
    "\n",
    "請使用隨機森林模型建立一個分類模型，來預測乳癌資料集中，為良性或是惡性的腫瘤。"
   ]
  },
  {
   "cell_type": "code",
   "execution_count": 2,
   "metadata": {},
   "outputs": [
    {
     "name": "stderr",
     "output_type": "stream",
     "text": [
      "\u001b[32m\u001b[1m   Updating\u001b[22m\u001b[39m registry at `C:\\Users\\User\\.julia\\registries\\General`\n"
     ]
    },
    {
     "name": "stdout",
     "output_type": "stream",
     "text": [
      "\u001b[?25l"
     ]
    },
    {
     "name": "stderr",
     "output_type": "stream",
     "text": [
      "\u001b[32m\u001b[1m   Updating\u001b[22m\u001b[39m git-repo `https://github.com/JuliaRegistries/General.git`\n"
     ]
    },
    {
     "name": "stdout",
     "output_type": "stream",
     "text": [
      "\u001b[2K\u001b[?25h"
     ]
    },
    {
     "name": "stderr",
     "output_type": "stream",
     "text": [
      "\u001b[32m\u001b[1m  Resolving\u001b[22m\u001b[39m package versions...\n",
      "\u001b[32m\u001b[1m  Installed\u001b[22m\u001b[39m DecisionTree ─ v0.10.1\n",
      "\u001b[32m\u001b[1m   Updating\u001b[22m\u001b[39m `C:\\Users\\User\\.julia\\environments\\v1.4\\Project.toml`\n",
      " \u001b[90m [7806a523]\u001b[39m\u001b[92m + DecisionTree v0.10.1\u001b[39m\n",
      "\u001b[32m\u001b[1m   Updating\u001b[22m\u001b[39m `C:\\Users\\User\\.julia\\environments\\v1.4\\Manifest.toml`\n",
      " \u001b[90m [7806a523]\u001b[39m\u001b[92m + DecisionTree v0.10.1\u001b[39m\n",
      "\u001b[32m\u001b[1m  Resolving\u001b[22m\u001b[39m package versions...\n",
      "\u001b[32m\u001b[1m  Installed\u001b[22m\u001b[39m ProgressMeter ─────── v1.2.0\n",
      "\u001b[32m\u001b[1m  Installed\u001b[22m\u001b[39m PyPlot ────────────── v2.9.0\n",
      "\u001b[32m\u001b[1m  Installed\u001b[22m\u001b[39m ElasticArrays ─────── v1.2.0\n",
      "\u001b[32m\u001b[1m  Installed\u001b[22m\u001b[39m ArrayLayouts ──────── v0.2.6\n",
      "\u001b[32m\u001b[1m  Installed\u001b[22m\u001b[39m JLD2 ──────────────── v0.1.13\n",
      "\u001b[32m\u001b[1m  Installed\u001b[22m\u001b[39m IRTools ───────────── v0.3.2\n",
      "\u001b[32m\u001b[1m  Installed\u001b[22m\u001b[39m Documenter ────────── v0.24.11\n",
      "\u001b[32m\u001b[1m  Installed\u001b[22m\u001b[39m Adapt ─────────────── v1.0.1\n",
      "\u001b[32m\u001b[1m  Installed\u001b[22m\u001b[39m ZygoteRules ───────── v0.2.0\n",
      "\u001b[32m\u001b[1m  Installed\u001b[22m\u001b[39m ElasticPDMats ─────── v0.2.1\n",
      "\u001b[32m\u001b[1m  Installed\u001b[22m\u001b[39m NBInclude ─────────── v2.2.0\n",
      "\u001b[32m\u001b[1m  Installed\u001b[22m\u001b[39m FastGaussQuadrature ─ v0.4.2\n",
      "\u001b[32m\u001b[1m  Installed\u001b[22m\u001b[39m NNlib ─────────────── v0.6.6\n",
      "\u001b[32m\u001b[1m  Installed\u001b[22m\u001b[39m Zygote ────────────── v0.4.20\n",
      "\u001b[32m\u001b[1m  Installed\u001b[22m\u001b[39m GaussianMixtures ──── v0.3.1\n",
      "\u001b[32m\u001b[1m  Installed\u001b[22m\u001b[39m ScikitLearn ───────── v0.5.1\n",
      "\u001b[32m\u001b[1m  Installed\u001b[22m\u001b[39m GaussianProcesses ─── v0.12.0\n",
      "\u001b[32m\u001b[1m   Updating\u001b[22m\u001b[39m `C:\\Users\\User\\.julia\\environments\\v1.4\\Project.toml`\n",
      " \u001b[90m [3646fa90]\u001b[39m\u001b[92m + ScikitLearn v0.5.1\u001b[39m\n",
      "\u001b[32m\u001b[1m   Updating\u001b[22m\u001b[39m `C:\\Users\\User\\.julia\\environments\\v1.4\\Manifest.toml`\n",
      " \u001b[90m [79e6a3ab]\u001b[39m\u001b[92m + Adapt v1.0.1\u001b[39m\n",
      " \u001b[90m [4c555306]\u001b[39m\u001b[92m + ArrayLayouts v0.2.6\u001b[39m\n",
      " \u001b[90m [e30172f5]\u001b[39m\u001b[92m + Documenter v0.24.11\u001b[39m\n",
      " \u001b[90m [fdbdab4c]\u001b[39m\u001b[92m + ElasticArrays v1.2.0\u001b[39m\n",
      " \u001b[90m [2904ab23]\u001b[39m\u001b[92m + ElasticPDMats v0.2.1\u001b[39m\n",
      " \u001b[90m [442a2c76]\u001b[39m\u001b[92m + FastGaussQuadrature v0.4.2\u001b[39m\n",
      " \u001b[90m [cc18c42c]\u001b[39m\u001b[92m + GaussianMixtures v0.3.1\u001b[39m\n",
      " \u001b[90m [891a1506]\u001b[39m\u001b[92m + GaussianProcesses v0.12.0\u001b[39m\n",
      " \u001b[90m [7869d1d1]\u001b[39m\u001b[92m + IRTools v0.3.2\u001b[39m\n",
      " \u001b[90m [033835bb]\u001b[39m\u001b[92m + JLD2 v0.1.13\u001b[39m\n",
      " \u001b[90m [0db19996]\u001b[39m\u001b[92m + NBInclude v2.2.0\u001b[39m\n",
      " \u001b[90m [872c559c]\u001b[39m\u001b[92m + NNlib v0.6.6\u001b[39m\n",
      " \u001b[90m [92933f4c]\u001b[39m\u001b[92m + ProgressMeter v1.2.0\u001b[39m\n",
      " \u001b[90m [d330b81b]\u001b[39m\u001b[92m + PyPlot v2.9.0\u001b[39m\n",
      " \u001b[90m [3646fa90]\u001b[39m\u001b[92m + ScikitLearn v0.5.1\u001b[39m\n",
      " \u001b[90m [e88e6eb3]\u001b[39m\u001b[92m + Zygote v0.4.20\u001b[39m\n",
      " \u001b[90m [700de1a5]\u001b[39m\u001b[92m + ZygoteRules v0.2.0\u001b[39m\n",
      "\u001b[32m\u001b[1m   Building\u001b[22m\u001b[39m NNlib → `C:\\Users\\User\\.julia\\packages\\NNlib\\FAI3o\\deps\\build.log`\n"
     ]
    }
   ],
   "source": [
    "using Pkg\n",
    "Pkg.add(\"DecisionTree\")\n",
    "Pkg.add(\"ScikitLearn\")"
   ]
  },
  {
   "cell_type": "code",
   "execution_count": 63,
   "metadata": {},
   "outputs": [],
   "source": [
    "using DecisionTree, RDatasets, DataFrames, MLDataUtils, Statistics\n",
    "using ScikitLearn.CrossValidation: cross_val_score"
   ]
  },
  {
   "cell_type": "markdown",
   "metadata": {},
   "source": [
    "## 讀取資料"
   ]
  },
  {
   "cell_type": "code",
   "execution_count": 7,
   "metadata": {},
   "outputs": [
    {
     "data": {
      "text/html": [
       "<table class=\"data-frame\"><thead><tr><th></th><th>variable</th><th>mean</th><th>min</th><th>median</th><th>max</th><th>nunique</th><th>nmissing</th><th>eltype</th></tr><tr><th></th><th>Symbol</th><th>Union…</th><th>Any</th><th>Union…</th><th>Any</th><th>Union…</th><th>Union…</th><th>Type</th></tr></thead><tbody><p>11 rows × 8 columns</p><tr><th>1</th><td>ID</td><td></td><td>1000025</td><td></td><td>95719</td><td>645</td><td></td><td>String</td></tr><tr><th>2</th><td>V1</td><td>4.41774</td><td>1</td><td>4.0</td><td>10</td><td></td><td></td><td>Int32</td></tr><tr><th>3</th><td>V2</td><td>3.13448</td><td>1</td><td>1.0</td><td>10</td><td></td><td></td><td>Int32</td></tr><tr><th>4</th><td>V3</td><td>3.20744</td><td>1</td><td>1.0</td><td>10</td><td></td><td></td><td>Int32</td></tr><tr><th>5</th><td>V4</td><td>2.80687</td><td>1</td><td>1.0</td><td>10</td><td></td><td></td><td>Int32</td></tr><tr><th>6</th><td>V5</td><td>3.21602</td><td>1</td><td>2.0</td><td>10</td><td></td><td></td><td>Int32</td></tr><tr><th>7</th><td>V6</td><td>3.54466</td><td>1</td><td>1.0</td><td>10</td><td></td><td>16</td><td>Union{Missing, Int32}</td></tr><tr><th>8</th><td>V7</td><td>3.43777</td><td>1</td><td>3.0</td><td>10</td><td></td><td></td><td>Int32</td></tr><tr><th>9</th><td>V8</td><td>2.86695</td><td>1</td><td>1.0</td><td>10</td><td></td><td></td><td>Int32</td></tr><tr><th>10</th><td>V9</td><td>1.58941</td><td>1</td><td>1.0</td><td>10</td><td></td><td></td><td>Int32</td></tr><tr><th>11</th><td>Class</td><td></td><td>benign</td><td></td><td>malignant</td><td>2</td><td></td><td>CategoricalString{UInt8}</td></tr></tbody></table>"
      ],
      "text/latex": [
       "\\begin{tabular}{r|cccccccc}\n",
       "\t& variable & mean & min & median & max & nunique & nmissing & eltype\\\\\n",
       "\t\\hline\n",
       "\t& Symbol & Union… & Any & Union… & Any & Union… & Union… & Type\\\\\n",
       "\t\\hline\n",
       "\t1 & ID &  & 1000025 &  & 95719 & 645 &  & String \\\\\n",
       "\t2 & V1 & 4.41774 & 1 & 4.0 & 10 &  &  & Int32 \\\\\n",
       "\t3 & V2 & 3.13448 & 1 & 1.0 & 10 &  &  & Int32 \\\\\n",
       "\t4 & V3 & 3.20744 & 1 & 1.0 & 10 &  &  & Int32 \\\\\n",
       "\t5 & V4 & 2.80687 & 1 & 1.0 & 10 &  &  & Int32 \\\\\n",
       "\t6 & V5 & 3.21602 & 1 & 2.0 & 10 &  &  & Int32 \\\\\n",
       "\t7 & V6 & 3.54466 & 1 & 1.0 & 10 &  & 16 & Union\\{Missing, Int32\\} \\\\\n",
       "\t8 & V7 & 3.43777 & 1 & 3.0 & 10 &  &  & Int32 \\\\\n",
       "\t9 & V8 & 2.86695 & 1 & 1.0 & 10 &  &  & Int32 \\\\\n",
       "\t10 & V9 & 1.58941 & 1 & 1.0 & 10 &  &  & Int32 \\\\\n",
       "\t11 & Class &  & benign &  & malignant & 2 &  & CategoricalString\\{UInt8\\} \\\\\n",
       "\\end{tabular}\n"
      ],
      "text/plain": [
       "11×8 DataFrame. Omitted printing of 1 columns\n",
       "│ Row │ variable │ mean    │ min     │ median │ max       │ nunique │ nmissing │\n",
       "│     │ \u001b[90mSymbol\u001b[39m   │ \u001b[90mUnion…\u001b[39m  │ \u001b[90mAny\u001b[39m     │ \u001b[90mUnion…\u001b[39m │ \u001b[90mAny\u001b[39m       │ \u001b[90mUnion…\u001b[39m  │ \u001b[90mUnion…\u001b[39m   │\n",
       "├─────┼──────────┼─────────┼─────────┼────────┼───────────┼─────────┼──────────┤\n",
       "│ 1   │ ID       │         │ 1000025 │        │ 95719     │ 645     │          │\n",
       "│ 2   │ V1       │ 4.41774 │ 1       │ 4.0    │ 10        │         │          │\n",
       "│ 3   │ V2       │ 3.13448 │ 1       │ 1.0    │ 10        │         │          │\n",
       "│ 4   │ V3       │ 3.20744 │ 1       │ 1.0    │ 10        │         │          │\n",
       "│ 5   │ V4       │ 2.80687 │ 1       │ 1.0    │ 10        │         │          │\n",
       "│ 6   │ V5       │ 3.21602 │ 1       │ 2.0    │ 10        │         │          │\n",
       "│ 7   │ V6       │ 3.54466 │ 1       │ 1.0    │ 10        │         │ 16       │\n",
       "│ 8   │ V7       │ 3.43777 │ 1       │ 3.0    │ 10        │         │          │\n",
       "│ 9   │ V8       │ 2.86695 │ 1       │ 1.0    │ 10        │         │          │\n",
       "│ 10  │ V9       │ 1.58941 │ 1       │ 1.0    │ 10        │         │          │\n",
       "│ 11  │ Class    │         │ benign  │        │ malignant │ 2       │          │"
      ]
     },
     "execution_count": 7,
     "metadata": {},
     "output_type": "execute_result"
    }
   ],
   "source": [
    "biopsy = dataset(\"MASS\", \"biopsy\")\n",
    "describe(biopsy)"
   ]
  },
  {
   "cell_type": "code",
   "execution_count": 42,
   "metadata": {},
   "outputs": [
    {
     "data": {
      "text/plain": [
       "137-element Array{String,1}:\n",
       " \"benign\"\n",
       " \"benign\"\n",
       " \"benign\"\n",
       " \"malignant\"\n",
       " \"benign\"\n",
       " \"benign\"\n",
       " \"benign\"\n",
       " \"benign\"\n",
       " \"malignant\"\n",
       " \"malignant\"\n",
       " \"malignant\"\n",
       " \"benign\"\n",
       " \"malignant\"\n",
       " ⋮\n",
       " \"malignant\"\n",
       " \"malignant\"\n",
       " \"benign\"\n",
       " \"benign\"\n",
       " \"benign\"\n",
       " \"benign\"\n",
       " \"malignant\"\n",
       " \"benign\"\n",
       " \"benign\"\n",
       " \"malignant\"\n",
       " \"malignant\"\n",
       " \"malignant\""
      ]
     },
     "execution_count": 42,
     "metadata": {},
     "output_type": "execute_result"
    }
   ],
   "source": [
    "dropmissing!(biopsy)\n",
    "\n",
    "indecies = MLDataUtils.shuffleobs(collect(1:nrow(biopsy)))\n",
    "train_ind, test_ind = MLDataUtils.splitobs(indecies, at = 0.8);\n",
    "train = biopsy[train_ind, :]\n",
    "test = biopsy[test_ind, :]\n",
    "\n",
    "features_train = Int32.(Matrix(train[:,2:10]))\n",
    "label_train = string.(train[!,:Class])\n",
    "features_test = Int32.(Matrix(test[:,2:10]))\n",
    "label_test = string.(test[!,:Class])"
   ]
  },
  {
   "cell_type": "code",
   "execution_count": 45,
   "metadata": {},
   "outputs": [
    {
     "data": {
      "text/plain": [
       "RandomForestClassifier\n",
       "n_trees:             50\n",
       "n_subfeatures:       -1\n",
       "partial_sampling:    0.7\n",
       "max_depth:           2\n",
       "min_samples_leaf:    1\n",
       "min_samples_split:   2\n",
       "min_purity_increase: 0.0\n",
       "classes:             nothing\n",
       "ensemble:            nothing"
      ]
     },
     "execution_count": 45,
     "metadata": {},
     "output_type": "execute_result"
    }
   ],
   "source": [
    "model = DecisionTree.RandomForestClassifier(n_trees=50, max_depth=2)"
   ]
  },
  {
   "cell_type": "code",
   "execution_count": 46,
   "metadata": {},
   "outputs": [
    {
     "data": {
      "text/plain": [
       "RandomForestClassifier\n",
       "n_trees:             50\n",
       "n_subfeatures:       -1\n",
       "partial_sampling:    0.7\n",
       "max_depth:           2\n",
       "min_samples_leaf:    1\n",
       "min_samples_split:   2\n",
       "min_purity_increase: 0.0\n",
       "classes:             [\"benign\", \"malignant\"]\n",
       "ensemble:            Ensemble of Decision Trees\n",
       "Trees:      50\n",
       "Avg Leaves: 3.98\n",
       "Avg Depth:  2.0"
      ]
     },
     "execution_count": 46,
     "metadata": {},
     "output_type": "execute_result"
    }
   ],
   "source": [
    "DecisionTree.fit!(model, features_train, label_train)"
   ]
  },
  {
   "cell_type": "code",
   "execution_count": 56,
   "metadata": {},
   "outputs": [
    {
     "data": {
      "text/plain": [
       "\"benign\""
      ]
     },
     "execution_count": 56,
     "metadata": {},
     "output_type": "execute_result"
    }
   ],
   "source": [
    "size(features_test)[1]\n",
    "features_test[1,:]\n",
    "DecisionTree.predict(model, features_test[1,:])"
   ]
  },
  {
   "cell_type": "code",
   "execution_count": 60,
   "metadata": {},
   "outputs": [
    {
     "name": "stdout",
     "output_type": "stream",
     "text": [
      "Pass Count = 133\n",
      "Pass Rate = 97.08029197080292 %\n"
     ]
    }
   ],
   "source": [
    "mPassCnt = 0\n",
    "mTotalCnt = size(features_test)[1]\n",
    "for idx in 1:size(features_test)[1]\n",
    "    ans = DecisionTree.predict(model, features_test[idx,:])\n",
    "#     println(ans)\n",
    "    if ans==label_test[idx]\n",
    "        mPassCnt+=1\n",
    "    end\n",
    "end\n",
    "\n",
    "println(\"Pass Count = \", mPassCnt)\n",
    "println(\"Pass Rate = \", mPassCnt/mTotalCnt*100, \" %\")"
   ]
  },
  {
   "cell_type": "code",
   "execution_count": 64,
   "metadata": {},
   "outputs": [
    {
     "data": {
      "text/plain": [
       "5-element Array{Float64,1}:\n",
       " 0.9454545454545454\n",
       " 1.0\n",
       " 0.963302752293578\n",
       " 0.981651376146789\n",
       " 0.963302752293578"
      ]
     },
     "execution_count": 64,
     "metadata": {},
     "output_type": "execute_result"
    }
   ],
   "source": [
    "accuracy = cross_val_score(model, features_train, label_train, cv=5)"
   ]
  },
  {
   "cell_type": "code",
   "execution_count": 65,
   "metadata": {},
   "outputs": [
    {
     "data": {
      "text/plain": [
       "5-element Array{Float64,1}:\n",
       " 1.0\n",
       " 1.0\n",
       " 1.0\n",
       " 0.9629629629629629\n",
       " 0.9615384615384616"
      ]
     },
     "execution_count": 65,
     "metadata": {},
     "output_type": "execute_result"
    }
   ],
   "source": [
    "accuracy = cross_val_score(model, features_test, label_test, cv=5)"
   ]
  },
  {
   "cell_type": "code",
   "execution_count": null,
   "metadata": {},
   "outputs": [],
   "source": []
  }
 ],
 "metadata": {
  "kernelspec": {
   "display_name": "Julia 1.4.0",
   "language": "julia",
   "name": "julia-1.4"
  },
  "language_info": {
   "file_extension": ".jl",
   "mimetype": "application/julia",
   "name": "julia",
   "version": "1.4.0"
  }
 },
 "nbformat": 4,
 "nbformat_minor": 4
}
