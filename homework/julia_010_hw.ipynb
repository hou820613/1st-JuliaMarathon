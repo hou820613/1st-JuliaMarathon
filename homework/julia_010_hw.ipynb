{
 "cells": [
  {
   "cell_type": "markdown",
   "metadata": {
    "colab_type": "text",
    "id": "7BtseMUwzMw6"
   },
   "source": [
    "# 集合 (Collection) 型別：元組 (Tuple) 、Pair、字典 (Dict)、與 Set\n",
    "\n",
    "## Day 010 作業：計算字串中各宇元出現的次數\n",
    "\n",
    "今天的作業請大家計算字串中，各字元 (包含標點符號與換行符號) 出現的次數。範例解答將以字典 (Dict) 示範，將出現在字串中的字元作為 key，字元每出現一次就將對應的 value 次數加 1。最後，印出各字元及出現的次數。\n",
    "\n",
    "【提示】要判斷字典中某個 key 是否存在，可以呼叫 `hashkey(字典, key)`，若 key 存在的話就會回傳 `true`。使用範例請參閱官方文件 [https://docs.julialang.org/en/v1/base/collections/#Base.haskey](https://docs.julialang.org/en/v1/base/collections/#Base.haskey)"
   ]
  },
  {
   "cell_type": "code",
   "execution_count": 1,
   "metadata": {
    "colab": {},
    "colab_type": "code",
    "id": "2F_ZiR34zMw7",
    "outputId": "ecdf19de-e303-44a3-e632-58b8fe6801e7"
   },
   "outputs": [
    {
     "data": {
      "text/plain": [
       "\"永和有永和路，中和也有永和路，\\n中和有中和路，永和也有中和路；\\n中和的中和路有接永和的中和路，\\n永和的永和路沒接中和的永和路；\\n永和的中和路有接永和的永和路，\\n中和的永和路沒接中和的中和路。\""
      ]
     },
     "execution_count": 1,
     "metadata": {},
     "output_type": "execute_result"
    }
   ],
   "source": [
    "str = \"永和有永和路，中和也有永和路，\n",
    "中和有中和路，永和也有中和路；\n",
    "中和的中和路有接永和的中和路，\n",
    "永和的永和路沒接中和的永和路；\n",
    "永和的中和路有接永和的永和路，\n",
    "中和的永和路沒接中和的中和路。\""
   ]
  },
  {
   "cell_type": "code",
   "execution_count": 2,
   "metadata": {
    "colab": {},
    "colab_type": "code",
    "id": "ocOvdS0ezMxA"
   },
   "outputs": [
    {
     "name": "stdout",
     "output_type": "stream",
     "text": [
      "永和有永和路，中和也有永和路，\n",
      "中和有中和路，永和也有中和路；\n",
      "中和的中和路有接永和的中和路，\n",
      "永和的永和路沒接中和的永和路；\n",
      "永和的中和路有接永和的永和路，\n",
      "中和的永和路沒接中和的中和路。\n",
      "【永】出現次數 = 12\n",
      "【和】出現次數 = 24\n",
      "【有】出現次數 = 6\n",
      "【路】出現次數 = 12\n",
      "【，】出現次數 = 5\n",
      "【中】出現次數 = 12\n",
      "【也】出現次數 = 2\n",
      "【；】出現次數 = 2\n",
      "【。】出現次數 = 1\n",
      "【換行符號】出現次數 = 5\n"
     ]
    }
   ],
   "source": [
    "mDict = Dict('永'=>0, '和'=>0, '有'=>0, '路'=>0, '，'=>0, '中'=>0, '也'=>0, '；'=>0, '。'=>0, '\\n'=>0)\n",
    "\n",
    "\n",
    "# 找出正確的索引 (因為 UTF-8 字元長度不一定相同)\n",
    "mFixIndex = []\n",
    "i = 0\n",
    "while i < lastindex(str)\n",
    "    i = nextind(str, i)\n",
    "    push!(mFixIndex, i)\n",
    "end\n",
    "\n",
    "# 列出原先字串中的每個字元\n",
    "for j in mFixIndex\n",
    "    mKey = str[j]\n",
    "    print(mKey)\n",
    "    if haskey(mDict, mKey)==true\n",
    "        mDict[mKey] = mDict[mKey]+1\n",
    "    end\n",
    "end\n",
    "println(\"\")\n",
    "println(\"【永】出現次數 = \", mDict['永'])\n",
    "println(\"【和】出現次數 = \", mDict['和'])\n",
    "println(\"【有】出現次數 = \", mDict['有'])\n",
    "println(\"【路】出現次數 = \", mDict['路'])\n",
    "println(\"【，】出現次數 = \", mDict['，'])\n",
    "println(\"【中】出現次數 = \", mDict['中'])\n",
    "println(\"【也】出現次數 = \", mDict['也'])\n",
    "println(\"【；】出現次數 = \", mDict['；'])\n",
    "println(\"【。】出現次數 = \", mDict['。'])\n",
    "println(\"【換行符號】出現次數 = \", mDict['\\n'])"
   ]
  },
  {
   "cell_type": "code",
   "execution_count": null,
   "metadata": {},
   "outputs": [],
   "source": []
  },
  {
   "cell_type": "code",
   "execution_count": null,
   "metadata": {},
   "outputs": [],
   "source": []
  }
 ],
 "metadata": {
  "@webio": {
   "lastCommId": null,
   "lastKernelId": null
  },
  "colab": {
   "name": "julia_010_hw.ipynb",
   "provenance": []
  },
  "kernelspec": {
   "display_name": "Julia 1.4.0",
   "language": "julia",
   "name": "julia-1.4"
  },
  "language_info": {
   "file_extension": ".jl",
   "mimetype": "application/julia",
   "name": "julia",
   "version": "1.4.0"
  }
 },
 "nbformat": 4,
 "nbformat_minor": 1
}
