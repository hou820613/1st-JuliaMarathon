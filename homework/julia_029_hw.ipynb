{
 "cells": [
  {
   "cell_type": "markdown",
   "metadata": {},
   "source": [
    "# Julia 機器學習：LIBSVM 支撐向量機\n",
    "\n",
    "## 作業 029：\n",
    "\n",
    "請使用 SVM 來建立一個預測模型，來對手寫數字辨識資料集，建立一個分類模型，預測數字為何。\n",
    "\n",
    "本作業需要使用到的套件有 MLDatasets，請在執行以下範例前先安裝。\n",
    "\n",
    "```\n",
    "] add MLDatasets\n",
    "```"
   ]
  },
  {
   "cell_type": "code",
   "execution_count": null,
   "metadata": {},
   "outputs": [],
   "source": [
    "using Pkg\n",
    "Pkg.add(\"LIBSVM\")\n",
    "Pkg.add(\"StatsBase\")\n",
    "Pkg.add(\"MLDatasets\")"
   ]
  },
  {
   "cell_type": "code",
   "execution_count": 1,
   "metadata": {},
   "outputs": [],
   "source": [
    "using LIBSVM, MLDatasets, Statistics"
   ]
  },
  {
   "cell_type": "markdown",
   "metadata": {},
   "source": [
    "## 讀取資料"
   ]
  },
  {
   "cell_type": "markdown",
   "metadata": {},
   "source": [
    "呼叫 MNIST 資料集的過程中，會先去檢查以前是否有下載過，如果是第一次下載，過程中會詢問是否下載資料集，請回答 `y`。"
   ]
  },
  {
   "cell_type": "code",
   "execution_count": 8,
   "metadata": {},
   "outputs": [
    {
     "data": {
      "text/plain": [
       "(FixedPointNumbers.Normed{UInt8,8}[0.0N0f8 0.0N0f8 … 0.0N0f8 0.0N0f8; 0.0N0f8 0.0N0f8 … 0.0N0f8 0.0N0f8; … ; 0.0N0f8 0.0N0f8 … 0.0N0f8 0.0N0f8; 0.0N0f8 0.0N0f8 … 0.0N0f8 0.0N0f8]\n",
       "\n",
       "FixedPointNumbers.Normed{UInt8,8}[0.0N0f8 0.0N0f8 … 0.0N0f8 0.0N0f8; 0.0N0f8 0.0N0f8 … 0.0N0f8 0.0N0f8; … ; 0.0N0f8 0.0N0f8 … 0.0N0f8 0.0N0f8; 0.0N0f8 0.0N0f8 … 0.0N0f8 0.0N0f8]\n",
       "\n",
       "FixedPointNumbers.Normed{UInt8,8}[0.0N0f8 0.0N0f8 … 0.0N0f8 0.0N0f8; 0.0N0f8 0.0N0f8 … 0.0N0f8 0.0N0f8; … ; 0.0N0f8 0.0N0f8 … 0.0N0f8 0.0N0f8; 0.0N0f8 0.0N0f8 … 0.0N0f8 0.0N0f8]\n",
       "\n",
       "...\n",
       "\n",
       "FixedPointNumbers.Normed{UInt8,8}[0.0N0f8 0.0N0f8 … 0.0N0f8 0.0N0f8; 0.0N0f8 0.0N0f8 … 0.0N0f8 0.0N0f8; … ; 0.0N0f8 0.0N0f8 … 0.0N0f8 0.0N0f8; 0.0N0f8 0.0N0f8 … 0.0N0f8 0.0N0f8]\n",
       "\n",
       "FixedPointNumbers.Normed{UInt8,8}[0.0N0f8 0.0N0f8 … 0.0N0f8 0.0N0f8; 0.0N0f8 0.0N0f8 … 0.0N0f8 0.0N0f8; … ; 0.0N0f8 0.0N0f8 … 0.0N0f8 0.0N0f8; 0.0N0f8 0.0N0f8 … 0.0N0f8 0.0N0f8]\n",
       "\n",
       "FixedPointNumbers.Normed{UInt8,8}[0.0N0f8 0.0N0f8 … 0.0N0f8 0.0N0f8; 0.0N0f8 0.0N0f8 … 0.0N0f8 0.0N0f8; … ; 0.0N0f8 0.0N0f8 … 0.0N0f8 0.0N0f8; 0.0N0f8 0.0N0f8 … 0.0N0f8 0.0N0f8], [7, 2, 1, 0, 4, 1, 4, 9, 5, 9  …  2, 3, 9, 0, 1, 2, 2, 0, 8, 9])"
      ]
     },
     "execution_count": 8,
     "metadata": {},
     "output_type": "execute_result"
    }
   ],
   "source": [
    "train_X, train_y = MNIST.traindata(1:10000)\n",
    "test_X,  test_y  = MNIST.testdata(1:1000)\n",
    "\n",
    "# train_X, train_y = MNIST.traindata(1:1000)\n",
    "# test_X,  test_y  = MNIST.testdata(1:100)"
   ]
  },
  {
   "cell_type": "markdown",
   "metadata": {},
   "source": [
    "## 資料轉換"
   ]
  },
  {
   "cell_type": "code",
   "execution_count": 9,
   "metadata": {},
   "outputs": [
    {
     "data": {
      "text/plain": [
       "1000×784 reshape(reinterpret(FixedPointNumbers.Normed{UInt8,8}, ::Array{UInt8,3}), 1000, 784) with eltype FixedPointNumbers.Normed{UInt8,8}:\n",
       " 0.0    0.0  0.0    0.0    0.0    0.0    …  0.0    0.0    0.0    0.0    0.0\n",
       " 0.0    0.0  0.671  0.0    0.0    0.0       0.0    0.0    0.0    0.0    0.502\n",
       " 0.0    0.0  0.996  0.0    0.0    0.408     0.0    0.0    0.0    0.0    0.988\n",
       " 0.0    0.0  0.318  0.0    0.0    0.996     0.0    0.0    0.0    0.0    0.988\n",
       " 0.0    0.0  0.0    0.0    0.0    0.62      0.173  0.0    0.0    0.992  0.988\n",
       " 0.0    0.0  0.0    0.0    0.0    0.0    …  0.898  0.0    0.0    0.984  0.992\n",
       " 0.0    0.0  0.0    0.282  0.0    0.0       0.992  0.0    0.0    0.984  0.988\n",
       " 0.0    0.0  0.0    0.682  0.0    0.0       0.494  0.0    0.0    0.122  0.988\n",
       " 0.0    0.0  0.0    0.984  0.0    0.0       0.0    0.0    0.0    0.0    0.988\n",
       " 0.0    0.0  0.0    0.678  0.0    0.0       0.0    0.0    0.0    0.0    0.992\n",
       " 0.0    0.0  0.0    0.278  0.0    0.0    …  0.0    0.0    0.0    0.0    0.988\n",
       " 0.0    0.0  0.0    0.282  0.0    0.0       0.0    0.0    0.0    0.0    0.988\n",
       " 0.0    0.0  0.0    0.118  0.0    0.0       0.0    0.0    0.0    0.0    0.988\n",
       " ⋮                                ⋮      ⋱         ⋮                    \n",
       " 0.984  0.0  0.0    0.0    0.0    0.0       0.0    0.996  0.0    0.0    0.0\n",
       " 0.824  0.0  0.0    0.0    0.0    0.0       0.0    0.996  0.0    0.0    0.0\n",
       " 0.098  0.0  0.0    0.0    0.639  0.0    …  0.0    0.996  0.031  0.0    0.0\n",
       " 0.0    0.0  0.0    0.0    1.0    0.0       0.0    0.824  0.62   0.0    0.0\n",
       " 0.0    0.0  0.0    0.0    0.8    0.0       0.0    0.725  0.984  0.0    0.0\n",
       " 0.0    0.0  0.0    0.0    0.043  0.0       0.0    0.686  0.984  0.0    0.0\n",
       " 0.478  0.0  0.0    0.0    0.0    0.0       0.0    0.302  0.992  0.0    0.0\n",
       " 0.973  0.0  0.0    0.0    0.0    0.0    …  0.0    0.059  0.722  0.0    0.0\n",
       " 0.992  0.0  0.0    0.0    0.0    0.0       0.0    0.0    0.122  0.0    0.0\n",
       " 0.255  0.0  0.0    0.0    0.0    0.0       0.0    0.0    0.122  0.0    0.0\n",
       " 0.0    0.0  0.0    0.0    0.0    0.0       0.0    0.0    0.122  0.0    0.0\n",
       " 0.0    0.0  0.0    0.0    0.0    0.0       0.0    0.0    0.0    0.0    0.0"
      ]
     },
     "execution_count": 9,
     "metadata": {},
     "output_type": "execute_result"
    }
   ],
   "source": [
    "train_X = reshape(train_X,(size(train_X)[3], 28*28)) # convert to the shape that fits model\n",
    "test_X = reshape(test_X,(size(test_X)[3], 28*28)) # convert to the shape that fits model"
   ]
  },
  {
   "cell_type": "code",
   "execution_count": 10,
   "metadata": {},
   "outputs": [
    {
     "data": {
      "text/plain": [
       "1000-element Array{String,1}:\n",
       " \"7\"\n",
       " \"2\"\n",
       " \"1\"\n",
       " \"0\"\n",
       " \"4\"\n",
       " \"1\"\n",
       " \"4\"\n",
       " \"9\"\n",
       " \"5\"\n",
       " \"9\"\n",
       " \"0\"\n",
       " \"6\"\n",
       " \"9\"\n",
       " ⋮\n",
       " \"1\"\n",
       " \"6\"\n",
       " \"2\"\n",
       " \"3\"\n",
       " \"9\"\n",
       " \"0\"\n",
       " \"1\"\n",
       " \"2\"\n",
       " \"2\"\n",
       " \"0\"\n",
       " \"8\"\n",
       " \"9\""
      ]
     },
     "execution_count": 10,
     "metadata": {},
     "output_type": "execute_result"
    }
   ],
   "source": [
    "train_y = string.(train_y) # convert to string type\n",
    "test_y =  string.(test_y) # convert to string type"
   ]
  },
  {
   "cell_type": "code",
   "execution_count": 11,
   "metadata": {},
   "outputs": [
    {
     "data": {
      "text/plain": [
       "NuSVC(LIBSVM.Kernel.Polynomial, 0.0012755102040816326, nothing, 0.5, 1.0, 3, 0.0, 0.001, true, false, LIBSVM.SVM{String}(NuSVC, LIBSVM.Kernel.Polynomial, nothing, 784, 10, [\"5\", \"0\", \"4\", \"1\", \"9\", \"2\", \"3\", \"6\", \"7\", \"8\"], Int32[1, 2, 3, 4, 5, 6, 7, 8, 9, 10], Float64[], Int32[], LIBSVM.SupportVectors{String,FixedPointNumbers.Normed{UInt8,8}}(9958, Int32[862, 997, 976, 1118, 978, 985, 1028, 1011, 1063, 940], [\"5\", \"5\", \"5\", \"5\", \"5\", \"5\", \"5\", \"5\", \"5\", \"5\"  …  \"8\", \"8\", \"8\", \"8\", \"8\", \"8\", \"8\", \"8\", \"8\", \"8\"], FixedPointNumbers.Normed{UInt8,8}[0.0N0f8 0.0N0f8 … 0.0N0f8 0.0N0f8; 0.0N0f8 0.498N0f8 … 0.671N0f8 0.0N0f8; … ; 0.816N0f8 0.0N0f8 … 0.0N0f8 0.0N0f8; 0.0N0f8 0.0N0f8 … 0.0N0f8 0.0N0f8], Int32[1, 12, 36, 48, 66, 101, 133, 139, 146, 174  …  9936, 9937, 9938, 9945, 9949, 9953, 9957, 9971, 9983, 9997], LIBSVM.SVMNode[LIBSVM.SVMNode(1, 0.0), LIBSVM.SVMNode(1, 0.0), LIBSVM.SVMNode(1, 0.0), LIBSVM.SVMNode(1, 0.0), LIBSVM.SVMNode(1, 0.0), LIBSVM.SVMNode(1, 0.0), LIBSVM.SVMNode(1, 0.0), LIBSVM.SVMNode(1, 0.0), LIBSVM.SVMNode(1, 0.0), LIBSVM.SVMNode(1, 0.0)  …  LIBSVM.SVMNode(1, 0.0), LIBSVM.SVMNode(1, 0.0), LIBSVM.SVMNode(1, 0.0), LIBSVM.SVMNode(1, 0.0), LIBSVM.SVMNode(1, 0.09803921568627451), LIBSVM.SVMNode(1, 0.0), LIBSVM.SVMNode(1, 0.0), LIBSVM.SVMNode(1, 0.0), LIBSVM.SVMNode(1, 0.0), LIBSVM.SVMNode(1, 0.0)]), 0.0, [2047.5138217021606 872.4878868064056 … 1288.146568861195 1310.3577353992048; 2047.5138217021606 2000.0104985765663 … 2062.052456692854 2072.690663317685; … ; -0.0 -855.5941976224782 … -1171.5678172072815 -1173.6733368426019; -721.2893986785383 -0.0 … -1254.9094340154477 -0.0], Float64[], Float64[], [0.19608160481778988, 0.23560934819011264, 0.27958256380291446, 0.1747993251551911, 0.25001823547871505, 0.25064630312057423, 0.20733743727652684, 0.16697443338982443, 0.21545654924350582, 0.13976502071451222  …  0.1450050578116518, 0.2216334285818796, 0.12645363136093773, 0.1484090161503273, 0.18665724659426206, 0.1614451173009056, 0.17261667701922287, 0.1097674550918637, 0.12599811200669234, 0.2723070749504612], 3, 0.0012755102040816326, 200.0, 0.001, 1.0, 0.5, 0.1, true, false))"
      ]
     },
     "execution_count": 11,
     "metadata": {},
     "output_type": "execute_result"
    }
   ],
   "source": [
    "# https://github.com/mpastell/LIBSVM.jl/blob/master/src/ScikitLearnAPI.jl\n",
    "# https://www.kaggle.com/nishan192/mnist-digit-recognition-using-svm\n",
    "# LIBSVM.set_params(kernal=LIBSVM.Kernel.Linear)\n",
    "model = LIBSVM.fit!(NuSVC(kernel=LIBSVM.Kernel.Polynomial), train_X, train_y)\n",
    "\n",
    "# # model = LIBSVM.fit!(SVC(), train_X, train_y)\n",
    "# model = LIBSVM.fit!(NuSVC(), train_X, train_y)\n",
    "# # model = LIBSVM.fit!(LinearSVC(), train_X, train_y)"
   ]
  },
  {
   "cell_type": "markdown",
   "metadata": {},
   "source": [
    "## 預測"
   ]
  },
  {
   "cell_type": "code",
   "execution_count": 12,
   "metadata": {},
   "outputs": [
    {
     "name": "stdout",
     "output_type": "stream",
     "text": [
      "Pass Cnt : 8886\n",
      "Pass Percent : 88.86\n"
     ]
    }
   ],
   "source": [
    "# ŷ = String[]\n",
    "# for i = 1:size(test_X, 1)\n",
    "#     y_ = LIBSVM.predict(model, Matrix(test_X[i, :]))\n",
    "#     append!(ŷ, y_)\n",
    "# end\n",
    "\n",
    "ŷ = String[]\n",
    "correct=0\n",
    "for i = 1:size(train_X, 1)\n",
    "    a = reshape(train_X[i, :],(1,size(train_X[i, :])[1]))\n",
    "    y_ = LIBSVM.predict(model, a)\n",
    "#     println(i, y_, \"Real Ans : \",train_y[i])\n",
    "    append!(ŷ, y_)\n",
    "end\n",
    "\n",
    "passCnt = 0\n",
    "for j=1:size(ŷ,1)\n",
    "#     println(ŷ[j], \" \",train_y[j])\n",
    "    if ŷ[j] ==train_y[j]\n",
    "        passCnt+=1\n",
    "    end\n",
    "end\n",
    "println(\"Pass Cnt : \", passCnt)\n",
    "println(\"Pass Percent : \",  passCnt / size(ŷ,1)*100)"
   ]
  },
  {
   "cell_type": "markdown",
   "metadata": {},
   "source": [
    "## 評估"
   ]
  },
  {
   "cell_type": "code",
   "execution_count": 13,
   "metadata": {},
   "outputs": [
    {
     "name": "stdout",
     "output_type": "stream",
     "text": [
      "Pass Cnt : 93\n",
      "Pass Percent : 9.3\n"
     ]
    }
   ],
   "source": [
    "ŷ = String[]\n",
    "correct=0\n",
    "for i = 1:size(test_X, 1)\n",
    "    a = reshape(test_X[i, :],(1,size(test_X[i, :])[1]))\n",
    "    y_ = LIBSVM.predict(model, a)\n",
    "#     println(i, y_, \"Real Ans : \",train_y[i])\n",
    "    append!(ŷ, y_)\n",
    "end\n",
    "\n",
    "passCnt = 0\n",
    "for j=1:size(ŷ,1)\n",
    "#     println(ŷ[j], \" \",test_y[j])\n",
    "    if ŷ[j] ==test_y[j]\n",
    "        passCnt+=1\n",
    "    end\n",
    "end\n",
    "println(\"Pass Cnt : \", passCnt)\n",
    "println(\"Pass Percent : \",  passCnt / size(ŷ,1)*100)"
   ]
  },
  {
   "cell_type": "code",
   "execution_count": null,
   "metadata": {},
   "outputs": [],
   "source": []
  },
  {
   "cell_type": "code",
   "execution_count": null,
   "metadata": {},
   "outputs": [],
   "source": []
  }
 ],
 "metadata": {
  "kernelspec": {
   "display_name": "Julia 1.4.0",
   "language": "julia",
   "name": "julia-1.4"
  },
  "language_info": {
   "file_extension": ".jl",
   "mimetype": "application/julia",
   "name": "julia",
   "version": "1.4.0"
  }
 },
 "nbformat": 4,
 "nbformat_minor": 4
}
